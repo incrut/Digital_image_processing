{
 "cells": [
  {
   "cell_type": "markdown",
   "id": "096c8b4e",
   "metadata": {},
   "source": [
    "# Bonus round - videos and GUIs"
   ]
  },
  {
   "cell_type": "markdown",
   "id": "cb6f5c0c",
   "metadata": {},
   "source": [
    "## Initialization"
   ]
  },
  {
   "cell_type": "code",
   "execution_count": 2,
   "id": "0df044e9",
   "metadata": {},
   "outputs": [],
   "source": [
    "import cv2\n",
    "import numpy as np\n",
    "from matplotlib import pyplot as plt\n",
    "\n",
    "from matplotlib.colors import NoNorm"
   ]
  },
  {
   "cell_type": "code",
   "execution_count": 3,
   "id": "12f32b4a",
   "metadata": {},
   "outputs": [],
   "source": [
    "# convenience function that estimates the difference between 2 images\n",
    "def diffscore(img1, img2):\n",
    "    return np.sum(abs(img1-img2))\n",
    "\n",
    "# convenience function to draw 1 image - no typing 4 lines anymore\n",
    "def display(img):\n",
    "    plt.figure()\n",
    "    plt.axis(\"off\")\n",
    "    if len(img.shape) == 2:\n",
    "        plt.imshow(img,cmap='gray',norm=NoNorm())\n",
    "    elif img.shape[2] == 1:\n",
    "        plt.imshow(img,cmap='gray',norm=NoNorm())\n",
    "    else:\n",
    "        plt.imshow(img)\n",
    "    plt.show()"
   ]
  },
  {
   "cell_type": "markdown",
   "id": "6b3bc996",
   "metadata": {},
   "source": [
    "## Video processing"
   ]
  },
  {
   "cell_type": "markdown",
   "id": "d0f7bea7",
   "metadata": {},
   "source": [
    "All the things you can do with a single image, you can also do with a video, frame-by-frame:"
   ]
  },
  {
   "cell_type": "code",
   "execution_count": 7,
   "id": "49240c74",
   "metadata": {},
   "outputs": [],
   "source": [
    "cap = cv2.VideoCapture(0)"
   ]
  },
  {
   "cell_type": "code",
   "execution_count": 4,
   "id": "e24ce7bd",
   "metadata": {},
   "outputs": [],
   "source": [
    "ident = lambda x:x\n",
    "\n",
    "def cap_callback(cap, action):\n",
    "    ret = True\n",
    "    while ret:\n",
    "        ret, img = cap.read()\n",
    "        img = action(img)\n",
    "        cv2.imshow(\"Processed Video\", img)\n",
    "        if cv2.waitKey(1) & 0xff == ord('q'):\n",
    "            ret = False\n",
    "    cv2.destroyAllWindows()"
   ]
  },
  {
   "cell_type": "code",
   "execution_count": 10,
   "id": "c74170a4",
   "metadata": {},
   "outputs": [],
   "source": [
    "cap_callback(cap, ident)"
   ]
  },
  {
   "cell_type": "code",
   "execution_count": 9,
   "id": "5a70d81f",
   "metadata": {},
   "outputs": [],
   "source": [
    "blur = lambda x:cv2.blur(x, (5,5))\n",
    "cap_callback(cap, blur)"
   ]
  },
  {
   "cell_type": "code",
   "execution_count": 8,
   "id": "b400428b",
   "metadata": {},
   "outputs": [],
   "source": [
    "import random\n",
    "def pepper_salt(img, low=16, high=242):\n",
    "    out = img.copy()\n",
    "    random_mat = np.array([[random.randint(0, 255) for j in range(img.shape[1])] for i in range(img.shape[0])])\n",
    "    pepper_mat = random_mat<low\n",
    "    pepper_mat = np.stack((pepper_mat,pepper_mat,pepper_mat), axis=2)\n",
    "    salt_mat = random_mat>high\n",
    "    salt_mat = np.stack((salt_mat,salt_mat,salt_mat), axis=2)\n",
    "    \n",
    "    out = np.where(pepper_mat, 0, out)\n",
    "    out = np.where(salt_mat, 255, out)\n",
    "    return out\n",
    "\n",
    "cap_callback(cap, pepper_salt)"
   ]
  },
  {
   "cell_type": "code",
   "execution_count": 11,
   "id": "e7cf0a1c",
   "metadata": {},
   "outputs": [],
   "source": [
    "def censor_orange(img):\n",
    "    hsv = cv2.cvtColor(img, cv2.COLOR_BGR2HSV)\n",
    "    mask = cv2.inRange(hsv, (14,100,120), (20,255,255))\n",
    "    mask = cv2.dilate(mask, np.full((13,13),1))\n",
    "    out = np.stack([np.where(mask, 0, img[:,:,0]),\n",
    "                   np.where(mask, 0, img[:,:,1]),\n",
    "                   np.where(mask, 0, img[:,:,2])], axis=2)\n",
    "    return out\n",
    "\n",
    "cap_callback(cap, censor_orange)"
   ]
  },
  {
   "cell_type": "markdown",
   "id": "9b93ee83",
   "metadata": {},
   "source": [
    "## PySimpleGUI"
   ]
  },
  {
   "cell_type": "markdown",
   "id": "6825ee7c",
   "metadata": {},
   "source": [
    "For simple graphical apps in Python, this library is the optimal choice in terms of simplicity."
   ]
  },
  {
   "attachments": {},
   "cell_type": "markdown",
   "id": "3d823833",
   "metadata": {},
   "source": [
    "!pip install PySimpleGUI"
   ]
  },
  {
   "cell_type": "code",
   "execution_count": 1,
   "id": "9af8ba65",
   "metadata": {},
   "outputs": [],
   "source": [
    "import PySimpleGUI as sg"
   ]
  },
  {
   "cell_type": "markdown",
   "id": "f9189398",
   "metadata": {},
   "source": [
    "We get to define a window as an array:"
   ]
  },
  {
   "cell_type": "code",
   "execution_count": 13,
   "id": "783eed74",
   "metadata": {},
   "outputs": [],
   "source": [
    "layout = [\n",
    "    [sg.Text(\"This is a text next to a quit button\"), sg.Button(\"quit\")] # 2D array of elements represents layout\n",
    "]"
   ]
  },
  {
   "cell_type": "code",
   "execution_count": 14,
   "id": "8b1f9cb6",
   "metadata": {},
   "outputs": [],
   "source": [
    "window = sg.Window(\"example\", layout)"
   ]
  },
  {
   "cell_type": "code",
   "execution_count": 15,
   "id": "070e2e5c",
   "metadata": {},
   "outputs": [],
   "source": [
    "run = True\n",
    "while run:\n",
    "    if window.was_closed(): # check if user clicked on the close button\n",
    "        break\n",
    "    event, values = window.read() # acquire event and values\n",
    "    if event == \"quit\": # if event equals to \"quit\", do that\n",
    "        run = False\n",
    "    window = window.refresh() # refresh window after any updates\n",
    "window.close() # kill window"
   ]
  },
  {
   "cell_type": "markdown",
   "id": "8a57050f",
   "metadata": {},
   "source": [
    "If you try to re-run the last snippet itself, nothing will happen. Mind this during the project: the window object is deinitialized after .close(), so you need to create a new object there. **And you need to create a new array for the layout (due to internal limitations)**."
   ]
  },
  {
   "cell_type": "code",
   "execution_count": 16,
   "id": "06555e8a",
   "metadata": {},
   "outputs": [
    {
     "name": "stdout",
     "output_type": "stream",
     "text": [
      "CLICKED {}\n",
      "I am a button {}\n",
      "quit {}\n"
     ]
    }
   ],
   "source": [
    "layout = [\n",
    "    [sg.Text(\"This is a text next to a quit button\"), sg.Button(\"quit\")],\n",
    "    [sg.Button(\"I am a button\"), sg.Button(\"I am a button with a key\",k=\"CLICKED\")]\n",
    "]\n",
    "\n",
    "\n",
    "window = sg.Window(\"example\", layout)\n",
    "\n",
    "run = True\n",
    "while run:\n",
    "    if window.was_closed():\n",
    "        break\n",
    "    event, values = window.read()\n",
    "    print(event, values) # observe that the event is the key of the interacted element\n",
    "                         # and values are a dictionary of element values if any\n",
    "    if event == \"quit\":\n",
    "        run = False\n",
    "    window = window.refresh()\n",
    "window.close()"
   ]
  },
  {
   "cell_type": "markdown",
   "id": "a4b3e9d7",
   "metadata": {},
   "source": [
    "You can interact with objects based on their keys, which can be anything you define:"
   ]
  },
  {
   "cell_type": "code",
   "execution_count": 17,
   "id": "c11a9757",
   "metadata": {},
   "outputs": [
    {
     "name": "stdout",
     "output_type": "stream",
     "text": [
      "SOME_NUMBER {}\n",
      "SOME_NUMBER {}\n",
      "SOME_NUMBER {}\n",
      "SOME_NUMBER {}\n",
      "SOME_NUMBER {}\n",
      "quit {}\n"
     ]
    }
   ],
   "source": [
    "counter = 0\n",
    "layout = [\n",
    "    [sg.Text(\"This is a text next to a quit button\"), sg.Button(\"quit\")],\n",
    "    [sg.Text(f\"This says {counter}\",k=\"THIS_SAYS\"), sg.Button(\"Add one!\",k='SOME_NUMBER')]\n",
    "]\n",
    "\n",
    "window = sg.Window(\"example\", layout)\n",
    "\n",
    "run = True\n",
    "while run:\n",
    "    if window.was_closed():\n",
    "        break\n",
    "    event, values = window.read()\n",
    "    print(event, values)\n",
    "    if event == \"quit\":\n",
    "        run = False\n",
    "    elif event == \"SOME_NUMBER\":\n",
    "        counter += 1\n",
    "        window['THIS_SAYS'].update(value = f\"This says {counter}\") # internally, the window is accessible as a dictionary\n",
    "                                                                   # and every element exposes the .update function\n",
    "    window = window.refresh()\n",
    "window.close()"
   ]
  },
  {
   "cell_type": "code",
   "execution_count": 21,
   "id": "a42d1dec",
   "metadata": {
    "scrolled": true
   },
   "outputs": [
    {
     "name": "stdout",
     "output_type": "stream",
     "text": [
      "SOME_NUMBER {'SOME_NUMBER': 2.0}\n",
      "SOME_NUMBER {'SOME_NUMBER': 0.0}\n",
      "SOME_NUMBER {'SOME_NUMBER': 3.0}\n",
      "SOME_NUMBER {'SOME_NUMBER': 5.0}\n",
      "SOME_NUMBER {'SOME_NUMBER': 7.0}\n",
      "SOME_NUMBER {'SOME_NUMBER': 10.0}\n",
      "SOME_NUMBER {'SOME_NUMBER': 2.0}\n",
      "SOME_NUMBER {'SOME_NUMBER': 20.0}\n",
      "SOME_NUMBER {'SOME_NUMBER': 17.0}\n",
      "SOME_NUMBER {'SOME_NUMBER': 22.0}\n",
      "SOME_NUMBER {'SOME_NUMBER': 29.0}\n",
      "SOME_NUMBER {'SOME_NUMBER': 32.0}\n",
      "SOME_NUMBER {'SOME_NUMBER': 43.0}\n",
      "SOME_NUMBER {'SOME_NUMBER': 51.0}\n",
      "SOME_NUMBER {'SOME_NUMBER': 61.0}\n",
      "SOME_NUMBER {'SOME_NUMBER': 70.0}\n",
      "SOME_NUMBER {'SOME_NUMBER': 75.0}\n",
      "SOME_NUMBER {'SOME_NUMBER': 82.0}\n",
      "SOME_NUMBER {'SOME_NUMBER': 90.0}\n",
      "SOME_NUMBER {'SOME_NUMBER': 95.0}\n",
      "SOME_NUMBER {'SOME_NUMBER': 99.0}\n",
      "SOME_NUMBER {'SOME_NUMBER': 102.0}\n",
      "SOME_NUMBER {'SOME_NUMBER': 99.0}\n",
      "SOME_NUMBER {'SOME_NUMBER': 119.0}\n",
      "SOME_NUMBER {'SOME_NUMBER': 126.0}\n",
      "SOME_NUMBER {'SOME_NUMBER': 136.0}\n",
      "SOME_NUMBER {'SOME_NUMBER': 146.0}\n",
      "SOME_NUMBER {'SOME_NUMBER': 158.0}\n",
      "SOME_NUMBER {'SOME_NUMBER': 170.0}\n",
      "SOME_NUMBER {'SOME_NUMBER': 184.0}\n",
      "SOME_NUMBER {'SOME_NUMBER': 190.0}\n",
      "SOME_NUMBER {'SOME_NUMBER': 196.0}\n",
      "SOME_NUMBER {'SOME_NUMBER': 197.0}\n",
      "SOME_NUMBER {'SOME_NUMBER': 201.0}\n",
      "SOME_NUMBER {'SOME_NUMBER': 204.0}\n",
      "SOME_NUMBER {'SOME_NUMBER': 207.0}\n",
      "SOME_NUMBER {'SOME_NUMBER': 209.0}\n",
      "SOME_NUMBER {'SOME_NUMBER': 211.0}\n",
      "SOME_NUMBER {'SOME_NUMBER': 213.0}\n",
      "SOME_NUMBER {'SOME_NUMBER': 214.0}\n",
      "SOME_NUMBER {'SOME_NUMBER': 213.0}\n",
      "SOME_NUMBER {'SOME_NUMBER': 211.0}\n",
      "SOME_NUMBER {'SOME_NUMBER': 207.0}\n",
      "SOME_NUMBER {'SOME_NUMBER': 197.0}\n",
      "SOME_NUMBER {'SOME_NUMBER': 184.0}\n",
      "SOME_NUMBER {'SOME_NUMBER': 175.0}\n",
      "SOME_NUMBER {'SOME_NUMBER': 168.0}\n",
      "SOME_NUMBER {'SOME_NUMBER': 165.0}\n",
      "SOME_NUMBER {'SOME_NUMBER': 160.0}\n",
      "SOME_NUMBER {'SOME_NUMBER': 155.0}\n",
      "SOME_NUMBER {'SOME_NUMBER': 150.0}\n",
      "SOME_NUMBER {'SOME_NUMBER': 146.0}\n",
      "SOME_NUMBER {'SOME_NUMBER': 143.0}\n",
      "SOME_NUMBER {'SOME_NUMBER': 139.0}\n",
      "SOME_NUMBER {'SOME_NUMBER': 134.0}\n",
      "SOME_NUMBER {'SOME_NUMBER': 122.0}\n",
      "SOME_NUMBER {'SOME_NUMBER': 116.0}\n",
      "SOME_NUMBER {'SOME_NUMBER': 111.0}\n",
      "SOME_NUMBER {'SOME_NUMBER': 105.0}\n",
      "SOME_NUMBER {'SOME_NUMBER': 102.0}\n",
      "SOME_NUMBER {'SOME_NUMBER': 95.0}\n",
      "SOME_NUMBER {'SOME_NUMBER': 85.0}\n",
      "SOME_NUMBER {'SOME_NUMBER': 73.0}\n",
      "SOME_NUMBER {'SOME_NUMBER': 66.0}\n",
      "SOME_NUMBER {'SOME_NUMBER': 58.0}\n",
      "SOME_NUMBER {'SOME_NUMBER': 46.0}\n",
      "SOME_NUMBER {'SOME_NUMBER': 36.0}\n",
      "SOME_NUMBER {'SOME_NUMBER': 29.0}\n",
      "SOME_NUMBER {'SOME_NUMBER': 17.0}\n",
      "SOME_NUMBER {'SOME_NUMBER': 10.0}\n",
      "SOME_NUMBER {'SOME_NUMBER': 3.0}\n",
      "SOME_NUMBER {'SOME_NUMBER': 0.0}\n",
      "SOME_NUMBER {'SOME_NUMBER': 3.0}\n",
      "SOME_NUMBER {'SOME_NUMBER': 10.0}\n",
      "SOME_NUMBER {'SOME_NUMBER': 15.0}\n",
      "SOME_NUMBER {'SOME_NUMBER': 19.0}\n",
      "SOME_NUMBER {'SOME_NUMBER': 22.0}\n",
      "SOME_NUMBER {'SOME_NUMBER': 29.0}\n",
      "SOME_NUMBER {'SOME_NUMBER': 32.0}\n",
      "SOME_NUMBER {'SOME_NUMBER': 41.0}\n",
      "SOME_NUMBER {'SOME_NUMBER': 53.0}\n",
      "SOME_NUMBER {'SOME_NUMBER': 65.0}\n",
      "SOME_NUMBER {'SOME_NUMBER': 75.0}\n",
      "SOME_NUMBER {'SOME_NUMBER': 90.0}\n",
      "SOME_NUMBER {'SOME_NUMBER': 102.0}\n",
      "SOME_NUMBER {'SOME_NUMBER': 122.0}\n",
      "SOME_NUMBER {'SOME_NUMBER': 133.0}\n",
      "SOME_NUMBER {'SOME_NUMBER': 138.0}\n",
      "SOME_NUMBER {'SOME_NUMBER': 146.0}\n",
      "SOME_NUMBER {'SOME_NUMBER': 153.0}\n",
      "SOME_NUMBER {'SOME_NUMBER': 160.0}\n",
      "SOME_NUMBER {'SOME_NUMBER': 168.0}\n",
      "SOME_NUMBER {'SOME_NUMBER': 177.0}\n",
      "SOME_NUMBER {'SOME_NUMBER': 180.0}\n",
      "SOME_NUMBER {'SOME_NUMBER': 185.0}\n",
      "SOME_NUMBER {'SOME_NUMBER': 192.0}\n",
      "SOME_NUMBER {'SOME_NUMBER': 204.0}\n",
      "SOME_NUMBER {'SOME_NUMBER': 214.0}\n",
      "SOME_NUMBER {'SOME_NUMBER': 219.0}\n",
      "SOME_NUMBER {'SOME_NUMBER': 228.0}\n",
      "SOME_NUMBER {'SOME_NUMBER': 231.0}\n",
      "SOME_NUMBER {'SOME_NUMBER': 238.0}\n",
      "SOME_NUMBER {'SOME_NUMBER': 241.0}\n",
      "SOME_NUMBER {'SOME_NUMBER': 247.0}\n",
      "SOME_NUMBER {'SOME_NUMBER': 252.0}\n",
      "SOME_NUMBER {'SOME_NUMBER': 255.0}\n",
      "SOME_NUMBER {'SOME_NUMBER': 248.0}\n",
      "SOME_NUMBER {'SOME_NUMBER': 226.0}\n",
      "SOME_NUMBER {'SOME_NUMBER': 211.0}\n",
      "SOME_NUMBER {'SOME_NUMBER': 202.0}\n",
      "SOME_NUMBER {'SOME_NUMBER': 197.0}\n",
      "SOME_NUMBER {'SOME_NUMBER': 190.0}\n",
      "SOME_NUMBER {'SOME_NUMBER': 184.0}\n",
      "SOME_NUMBER {'SOME_NUMBER': 179.0}\n",
      "SOME_NUMBER {'SOME_NUMBER': 173.0}\n",
      "SOME_NUMBER {'SOME_NUMBER': 170.0}\n",
      "SOME_NUMBER {'SOME_NUMBER': 163.0}\n",
      "SOME_NUMBER {'SOME_NUMBER': 160.0}\n",
      "SOME_NUMBER {'SOME_NUMBER': 155.0}\n",
      "SOME_NUMBER {'SOME_NUMBER': 150.0}\n",
      "SOME_NUMBER {'SOME_NUMBER': 143.0}\n",
      "SOME_NUMBER {'SOME_NUMBER': 136.0}\n",
      "SOME_NUMBER {'SOME_NUMBER': 131.0}\n",
      "SOME_NUMBER {'SOME_NUMBER': 122.0}\n",
      "SOME_NUMBER {'SOME_NUMBER': 119.0}\n",
      "SOME_NUMBER {'SOME_NUMBER': 111.0}\n",
      "SOME_NUMBER {'SOME_NUMBER': 100.0}\n",
      "SOME_NUMBER {'SOME_NUMBER': 90.0}\n",
      "SOME_NUMBER {'SOME_NUMBER': 66.0}\n",
      "SOME_NUMBER {'SOME_NUMBER': 53.0}\n",
      "SOME_NUMBER {'SOME_NUMBER': 41.0}\n",
      "SOME_NUMBER {'SOME_NUMBER': 31.0}\n",
      "SOME_NUMBER {'SOME_NUMBER': 22.0}\n",
      "SOME_NUMBER {'SOME_NUMBER': 17.0}\n",
      "SOME_NUMBER {'SOME_NUMBER': 10.0}\n",
      "SOME_NUMBER {'SOME_NUMBER': 5.0}\n",
      "SOME_NUMBER {'SOME_NUMBER': 0.0}\n",
      "quit {'SOME_NUMBER': 0.0}\n"
     ]
    }
   ],
   "source": [
    "layout = [\n",
    "    [sg.Text(\"This is a text next to a quit button\"), sg.Button(\"quit\")],\n",
    "    [sg.Text(f\"This says 0\",k=\"THIS_SAYS\"), sg.Slider(range=(0,255), k=\"SOME_NUMBER\", default_value=0,size=(20,20),enable_events=True, orientation=\"horizontal\")]\n",
    "] # Note that here I had to enable slider events for the slider to emit an update every time the value changes.\n",
    "\n",
    "window = sg.Window(\"example\", layout)\n",
    "\n",
    "run = True\n",
    "while run:\n",
    "    if window.was_closed():\n",
    "        break\n",
    "    event, values = window.read()\n",
    "    print(event, values) # and here you see that the values dictionary is arranged by element keys\n",
    "    if event == \"quit\":\n",
    "        run = False\n",
    "    elif event == \"SOME_NUMBER\":\n",
    "        window['THIS_SAYS'].update(value = f\"This says {values['SOME_NUMBER']}\")\n",
    "    window = window.refresh()\n",
    "window.close()"
   ]
  },
  {
   "cell_type": "markdown",
   "id": "ca88a4ce",
   "metadata": {},
   "source": [
    "While I really hope that this library finds its way into your personal projects, in the scope of this course we still need one more thing - images!\n",
    "\n",
    "Of course, we can handle images (although extra conversion is involved):"
   ]
  },
  {
   "cell_type": "code",
   "execution_count": 22,
   "id": "a8dc5e99",
   "metadata": {},
   "outputs": [],
   "source": [
    "cap = cv2.VideoCapture(0)\n",
    "_, img = cap.read()\n",
    "imgbytes = cv2.imencode('.png', img)[1].tobytes() # this part is necessary for images inside the GUI\n",
    "\n",
    "layout = [\n",
    "    [sg.Text(\"This is a text next to a quit button\"), sg.Button(\"quit\")],\n",
    "    [sg.Image(k=\"IMAGE\", data=imgbytes), sg.Button(\"Update snap\", k=\"UPD\")]\n",
    "]\n",
    "\n",
    "window = sg.Window(\"example\", layout)\n",
    "\n",
    "run = True\n",
    "while run:\n",
    "    if window.was_closed():\n",
    "        break\n",
    "    event, values = window.read()\n",
    "    if event == \"quit\":\n",
    "        run = False\n",
    "    elif event == \"UPD\": # if UPD, update image\n",
    "        _, img = cap.read()\n",
    "        imgbytes = cv2.imencode('.png', img)[1].tobytes()\n",
    "        window['IMAGE'].update(data = imgbytes)\n",
    "    window = window.refresh()\n",
    "window.close()"
   ]
  },
  {
   "cell_type": "code",
   "execution_count": 23,
   "id": "bf3bebbf",
   "metadata": {},
   "outputs": [],
   "source": [
    "cap = cv2.VideoCapture(0)\n",
    "_, img = cap.read()\n",
    "imgbytes = cv2.imencode('.png', img)[1].tobytes()\n",
    "\n",
    "layout = [\n",
    "    [sg.Text(\"This is a text next to a quit button\"), sg.Button(\"quit\")],\n",
    "    [sg.Image(k=\"IMAGE\", data=imgbytes)]\n",
    "]\n",
    "\n",
    "window = sg.Window(\"example\", layout)\n",
    "\n",
    "run = True\n",
    "while run:\n",
    "    if window.was_closed():\n",
    "        break\n",
    "    event, values = window.read(timeout=50) # timeout = milliseconds to wait until skipping this read action\n",
    "    if event == \"quit\":\n",
    "        run = False\n",
    "    _, img = cap.read()\n",
    "    imgbytes = cv2.imencode('.png', img)[1].tobytes()\n",
    "    window['IMAGE'].update(data = imgbytes)\n",
    "    window = window.refresh()\n",
    "window.close()"
   ]
  },
  {
   "cell_type": "markdown",
   "id": "b26aac8c",
   "metadata": {},
   "source": [
    "You can even sort of combine these to play/pause:"
   ]
  },
  {
   "cell_type": "code",
   "execution_count": 24,
   "id": "ef9a31e5",
   "metadata": {},
   "outputs": [],
   "source": [
    "cap = cv2.VideoCapture(0)\n",
    "_, img = cap.read()\n",
    "imgbytes = cv2.imencode('.png', img)[1].tobytes()\n",
    "\n",
    "layout = [\n",
    "    [sg.Text(\"This is a text next to a quit button\"), sg.Button(\"quit\")],\n",
    "    [sg.Image(k=\"IMAGE\", data=imgbytes), sg.Button(\"PLAY/PAUSE\", k=\"UPD\")]\n",
    "]\n",
    "\n",
    "window = sg.Window(\"example\", layout)\n",
    "\n",
    "run = True\n",
    "video_playing = True\n",
    "while run:\n",
    "    if window.was_closed():\n",
    "        break\n",
    "    event, values = window.read(timeout=50) # timeout = milliseconds to wait until skipping this read action\n",
    "    if event == \"quit\":\n",
    "        run = False\n",
    "    elif event == \"UPD\":\n",
    "        video_playing = not video_playing\n",
    "    if video_playing:\n",
    "        _, img = cap.read()\n",
    "        imgbytes = cv2.imencode('.png', img)[1].tobytes()\n",
    "        window['IMAGE'].update(data = imgbytes)\n",
    "    window = window.refresh()\n",
    "window.close()"
   ]
  },
  {
   "cell_type": "markdown",
   "id": "58e24d3c",
   "metadata": {},
   "source": [
    "Now you know how to display images and read values from the window in PySimpleGUI! And you know what to do with those images by this point. Good luck!"
   ]
  },
  {
   "cell_type": "markdown",
   "id": "053a358a",
   "metadata": {},
   "source": [
    "P.S PySimpleGUI docs can be found at https://www.pysimplegui.org/en/latest/\n",
    "\n",
    "Use the searchbar to look up attributes and methods of window elements, most importantly the Button, Slider and Image."
   ]
  }
 ],
 "metadata": {
  "kernelspec": {
   "display_name": "Python 3 (ipykernel)",
   "language": "python",
   "name": "python3"
  },
  "language_info": {
   "codemirror_mode": {
    "name": "ipython",
    "version": 3
   },
   "file_extension": ".py",
   "mimetype": "text/x-python",
   "name": "python",
   "nbconvert_exporter": "python",
   "pygments_lexer": "ipython3",
   "version": "3.9.13"
  }
 },
 "nbformat": 4,
 "nbformat_minor": 5
}
